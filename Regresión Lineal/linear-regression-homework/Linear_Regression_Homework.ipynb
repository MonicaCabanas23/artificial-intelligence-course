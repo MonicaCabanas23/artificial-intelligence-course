{
 "cells": [
  {
   "cell_type": "markdown",
   "metadata": {},
   "source": [
    "# Tarea de Regresión Lineal\n",
    "\n",
    "## Introducción\n",
    "Esta tarea consiste en la implementación en python del algoritmo de gradiente descendiente. Esta implementación soluciona el problema de regresión trabajado en clase, tomando en cuenta las siguientes características:\n",
    "<ol>\n",
    "    <li>\n",
    "        <strong>Implementación interactiva:</strong> Se permite la modificación de la taza de aprendizaje por medio de la librería <a href=\"https://ipywidgets.readthedocs.io/en/stable/\">ipywidgets</a>.\n",
    "    </li>\n",
    "    <li>\n",
    "        <strong>Uso de gráficos:</strong> Se puede visualizar los cambios en la función de costo a medida que se actualiza el valor de la taza de aprendizaje.\n",
    "    </li>\n",
    "    <li>\n",
    "        <strong>Regresión multivariable:</strong> Se ha realizado la implementación de regresión multivariable\n",
    "    </li>\n",
    "</ol>\n",
    "\n",
    "<strong>Estudiante:</strong> Mónica Gabriela Cabañas Meléndez \n",
    "\n",
    "### Importación de librerías necesarias y carga de datos"
   ]
  },
  {
   "cell_type": "code",
   "execution_count": 1,
   "metadata": {},
   "outputs": [],
   "source": [
    "# Importing necessary libraries\n",
    "import numpy as np\n",
    "import pandas as pd\n",
    "import matplotlib.pyplot as plt\n",
    "from ipywidgets import interact, interactive, fixed, interact_manual\n",
    "import ipywidgets as widgets\n",
    "from IPython.display import display"
   ]
  },
  {
   "cell_type": "code",
   "execution_count": 2,
   "metadata": {},
   "outputs": [
    {
     "data": {
      "text/html": [
       "<div>\n",
       "<style scoped>\n",
       "    .dataframe tbody tr th:only-of-type {\n",
       "        vertical-align: middle;\n",
       "    }\n",
       "\n",
       "    .dataframe tbody tr th {\n",
       "        vertical-align: top;\n",
       "    }\n",
       "\n",
       "    .dataframe thead th {\n",
       "        text-align: right;\n",
       "    }\n",
       "</style>\n",
       "<table border=\"1\" class=\"dataframe\">\n",
       "  <thead>\n",
       "    <tr style=\"text-align: right;\">\n",
       "      <th></th>\n",
       "      <th>No</th>\n",
       "      <th>X1 transaction date</th>\n",
       "      <th>X2 house age</th>\n",
       "      <th>X3 distance to the nearest MRT station</th>\n",
       "      <th>X4 number of convenience stores</th>\n",
       "      <th>X5 latitude</th>\n",
       "      <th>X6 longitude</th>\n",
       "      <th>Y house price of unit area</th>\n",
       "    </tr>\n",
       "  </thead>\n",
       "  <tbody>\n",
       "    <tr>\n",
       "      <th>0</th>\n",
       "      <td>1</td>\n",
       "      <td>2012.916667</td>\n",
       "      <td>32.0</td>\n",
       "      <td>84.87882</td>\n",
       "      <td>10</td>\n",
       "      <td>24.98298</td>\n",
       "      <td>121.54024</td>\n",
       "      <td>37.9</td>\n",
       "    </tr>\n",
       "    <tr>\n",
       "      <th>1</th>\n",
       "      <td>2</td>\n",
       "      <td>2012.916667</td>\n",
       "      <td>19.5</td>\n",
       "      <td>306.59470</td>\n",
       "      <td>9</td>\n",
       "      <td>24.98034</td>\n",
       "      <td>121.53951</td>\n",
       "      <td>42.2</td>\n",
       "    </tr>\n",
       "    <tr>\n",
       "      <th>2</th>\n",
       "      <td>3</td>\n",
       "      <td>2013.583333</td>\n",
       "      <td>13.3</td>\n",
       "      <td>561.98450</td>\n",
       "      <td>5</td>\n",
       "      <td>24.98746</td>\n",
       "      <td>121.54391</td>\n",
       "      <td>47.3</td>\n",
       "    </tr>\n",
       "    <tr>\n",
       "      <th>3</th>\n",
       "      <td>4</td>\n",
       "      <td>2013.500000</td>\n",
       "      <td>13.3</td>\n",
       "      <td>561.98450</td>\n",
       "      <td>5</td>\n",
       "      <td>24.98746</td>\n",
       "      <td>121.54391</td>\n",
       "      <td>54.8</td>\n",
       "    </tr>\n",
       "    <tr>\n",
       "      <th>4</th>\n",
       "      <td>5</td>\n",
       "      <td>2012.833333</td>\n",
       "      <td>5.0</td>\n",
       "      <td>390.56840</td>\n",
       "      <td>5</td>\n",
       "      <td>24.97937</td>\n",
       "      <td>121.54245</td>\n",
       "      <td>43.1</td>\n",
       "    </tr>\n",
       "  </tbody>\n",
       "</table>\n",
       "</div>"
      ],
      "text/plain": [
       "   No  X1 transaction date  X2 house age  \\\n",
       "0   1          2012.916667          32.0   \n",
       "1   2          2012.916667          19.5   \n",
       "2   3          2013.583333          13.3   \n",
       "3   4          2013.500000          13.3   \n",
       "4   5          2012.833333           5.0   \n",
       "\n",
       "   X3 distance to the nearest MRT station  X4 number of convenience stores  \\\n",
       "0                                84.87882                               10   \n",
       "1                               306.59470                                9   \n",
       "2                               561.98450                                5   \n",
       "3                               561.98450                                5   \n",
       "4                               390.56840                                5   \n",
       "\n",
       "   X5 latitude  X6 longitude  Y house price of unit area  \n",
       "0     24.98298     121.54024                        37.9  \n",
       "1     24.98034     121.53951                        42.2  \n",
       "2     24.98746     121.54391                        47.3  \n",
       "3     24.98746     121.54391                        54.8  \n",
       "4     24.97937     121.54245                        43.1  "
      ]
     },
     "execution_count": 2,
     "metadata": {},
     "output_type": "execute_result"
    }
   ],
   "source": [
    "# Loading the data\n",
    "data = pd.read_excel('Real estate valuation data set.xlsx')\n",
    "\n",
    "# Displaying the first 5 rows of the data\n",
    "data.head(5)"
   ]
  },
  {
   "cell_type": "markdown",
   "metadata": {},
   "source": [
    "## Regresión Lineal\n",
    "\n",
    "A continuación se desarrolla una función que representa el modelo de Regresión Lineal Multivariable visto en clase: \n",
    "$$\n",
    "    h_{\\theta} = \\mathbf{\\theta_{0}} + x_{1}^{(i)} \\theta_{1} + ... + x_{d}^{(i)} \\theta_{d}  \n",
    "$$ \n",
    "\n",
    "Para realizar el cálculo para cada $ x^{(i)} $ en donde se tienen $ n $ casos de prueba y $ d $ factores (variables) a tomar en cuenta en una sola operación se procederá a utilizar la notación matricial del modelo: \n",
    "\n",
    "$$ \n",
    "    \\mathbf{h_{\\theta}} = \\mathbf{A} \\mathbf{\\theta} \n",
    "$$\n",
    "\n",
    "Donde: \n",
    "$$ \n",
    "    \\mathbf{A} = \n",
    "    \\begin{bmatrix}\n",
    "        1 & x_{1}^{(1)} & x_{2}^{(1)} & ... & x_{d}^{(1)}\\\\\n",
    "        1 & . & . & ... & .\\\\ \n",
    "        1 & . & . & ... & .\\\\\n",
    "        1 & . & . & ... & .\\\\\n",
    "        1 & x_{1}^{(n)} & x_{2}^{(n)} & ... & x_{d}^{(n)}\n",
    "    \\end{bmatrix} \n",
    "\n",
    "    ,\n",
    "\n",
    "    \\mathbf{\\theta} = \n",
    "    \\begin{bmatrix}\n",
    "        \\theta_{0}\\\\\n",
    "        \\theta_{1}\\\\\n",
    "        \\theta_{2}\\\\\n",
    "        .\\\\\n",
    "        .\\\\\n",
    "        .\\\\\n",
    "        \\theta_{d}\n",
    "    \\end{bmatrix}\n",
    "$$\n",
    "\n",
    "Por lo tanto, la función recibirá como parámetros la matriz de regresores $ \\mathbf{A} $ y el vector de parámetros $ \\mathbf{\\theta} $."
   ]
  },
  {
   "cell_type": "code",
   "execution_count": 3,
   "metadata": {},
   "outputs": [],
   "source": [
    "# Defining the linear regression function\n",
    "def linear_regression(A, theta): \n",
    "    return np.matmul(A,theta)"
   ]
  },
  {
   "cell_type": "markdown",
   "metadata": {},
   "source": [
    "## Función de costo\n",
    "\n",
    "A continuación se desarrolla la función que calcula el error cuadrático medio del modelo de Regresión Lineal (Mean Squared Error): \n",
    "$$\n",
    "    J(\\theta_{0}, \\theta_{1}, ... , \\theta_{d}) = \\frac{1}{n} \\sum_{i=1}^{n}[h_{\\theta}(x^{(i)}) - y^{(i)}]^{2}\n",
    "$$\n",
    "El error se puede expresar en notación matricial de la siguiente manera: \n",
    "$$\n",
    "    \\mathbf{e} = \\mathbf{A\\theta} - \\mathbf{Y}\n",
    "$$\n",
    "Quedando como una matriz de dimensión $ n \\times 1 $. Por lo tanto para poder expresar la función de costo en notación matricial, la expresión quedaría de la siguiente manera:\n",
    "$$\n",
    "    J(\\theta_{0}, \\theta_{1}, ... , \\theta_{d}) = \\frac{1}{n} \\mathbf{e^T} \\mathbf{e}\n",
    "$$\n",
    "\n",
    "En donde multiplicamos la transpuesta del error por la matriz de error para poder obtener un escalar como resultado final.\n"
   ]
  },
  {
   "cell_type": "code",
   "execution_count": 4,
   "metadata": {},
   "outputs": [],
   "source": [
    "# Defining function for cost function\n",
    "def cost_function(h, y):\n",
    "    e = np.subtract(h, y)\n",
    "    return (1 / len(y)) * np.matmul(e.T, e)"
   ]
  },
  {
   "cell_type": "markdown",
   "metadata": {},
   "source": [
    "## Gradiente de la función de costo\n",
    "\n",
    "Antes de proceder a ejecutar el algoritmo de Gradiente Descendiente debemos encontrar el grandiente de la función de costo, que no es más que el vector que contiene todas las derivadas parciales de las cuales depende esta función y apunta a la dirección de mayor incremento de esta. El gradiente podemos encontrarlo de la siguiente manera: \n",
    "\n",
    "$$\n",
    "    J = \\frac{1}{n} \\mathbf{e^T}\\mathbf{e}\n",
    "$$\n",
    "$$\n",
    "    J = \\frac{1}{2n}  \\mathbf{e^T}\\mathbf{e}\n",
    "$$\n",
    "$$\n",
    "    \\frac{\\partial}{\\partial \\theta} J = \\frac{\\partial}{\\partial \\theta} [\\frac{1}{2n}  \\mathbf{e^T}\\mathbf{e}]\n",
    "$$\n",
    "Aplicando reglas de cálculo:\n",
    "$$\n",
    "    \\nabla_{\\theta} J = \\frac{1}{n} \\mathbf{A^T} \\mathbf{e}\n",
    "$$\n",
    "\n",
    "Siendo $ \\mathbf{A^T} $ de dimensión $ (d + 1) \\times n $ que al multiplicarse por la matriz del error $ \\mathbf{e} $ con dimensión $ n \\times 1 $ obtenemos el vector del gradiente con dimensión de $ (d + 1) \\times 1$"
   ]
  },
  {
   "cell_type": "code",
   "execution_count": 5,
   "metadata": {},
   "outputs": [],
   "source": [
    "# Defining the function for obtaining the gradient vector\n",
    "def gradient(A, h, y):\n",
    "    e = np.subtract(h, y)\n",
    "    return (1 / len(y)) * np.matmul(A.T, e)"
   ]
  },
  {
   "cell_type": "markdown",
   "metadata": {},
   "source": [
    "## Gradiente Descendiente\n",
    "\n",
    "Finalmente, para obtener los valores óptimos de todos los parámetros dentro de la matriz $ \\mathbf{\\theta} $ se procederá a ejecutar el algoritmo de Gradiente Descendiente aprendido en clase: \n",
    "\n",
    "$$\n",
    "    \\theta_{0} := \\theta_{0} - \\alpha \\frac{\\partial J}{\\partial \\theta_{0}}\n",
    "$$\n",
    "\n",
    "$$\n",
    "    \\theta_{1} := \\theta_{1} - \\alpha \\frac{\\partial J}{\\partial \\theta_{1}}\n",
    "    .\\\\ .\\\\ .\\\\\n",
    "    \\theta_{d} := \\theta_{d} - \\alpha \\frac{\\partial J}{\\partial \\theta_{d}}\n",
    "$$\n",
    "\n",
    "Que al expresarlo en notación matricial queda de la siguiente manera: \n",
    "\n",
    "$$\n",
    "    \\mathbf{\\theta} := \\mathbf{\\theta} - \\frac{\\alpha}{n} \\mathbf{A^T}\\mathbf{e}\n",
    "$$\n",
    "\n",
    "A continuación definiremos algunas funciones de utilidades para visualizar el cambio de la función de costo al actualizar el valor de los parámetros:"
   ]
  },
  {
   "cell_type": "code",
   "execution_count": 6,
   "metadata": {},
   "outputs": [],
   "source": [
    "# Function for plotting the cost function against the number of iterations\n",
    "def plot_cost_function(J_history):\n",
    "    plt.plot(J_history)\n",
    "    plt.xlabel('Number of iterations')\n",
    "    plt.ylabel('Cost function')\n",
    "    plt.title('Cost function vs. Number of iterations')\n",
    "    plt.show()\n",
    "\n",
    "# Function for displaying thetas\n",
    "def display_thetas(theta):\n",
    "    df = pd.DataFrame(theta, columns=['Thetas'], index=['0', '1', '2', '3', '4', '5', '6'])\n",
    "    print(df)"
   ]
  },
  {
   "cell_type": "code",
   "execution_count": 7,
   "metadata": {},
   "outputs": [],
   "source": [
    "# Update function for gradient descent\n",
    "def update(theta, alpha, A, h, y):\n",
    "    return theta - alpha * gradient(A, h, y)"
   ]
  },
  {
   "cell_type": "markdown",
   "metadata": {},
   "source": [
    "En el siguiente bloque de código se encuentra la definición del algoritmo tomando en cuenta los siguientes aspectos: \n",
    "1. La función recibe como atributos la tasa de aprendizaje $\\alpha$, la matriz de parámetros $\\mathbf{\\theta}$, la matriz de regresores $\\mathbf{A}$, el vector de valores $\\mathbf{Y}$ y el número de iteraciones máximo que se ejecutará el algoritmo si este no converge antes.\n",
    "2. Si la tasa de aprendizaje no es adecuada y provoca que tanto el gradiente como la función de costo aumenten indefinidamente, la función identificará que en el vector de parámetros $\\mathbf{\\theta}$ se encuentran valores como $\\mathbf{InF}$ y saldrá del bucle.\n",
    "3. El bucle dejará de ejecutarse si el gradiente es lo suficientemente cercano a cero, si contiene valores demasiado grandes como $\\mathbf{InF}$, o si ya se ejecutaron el número de iteraciones indicadas por el usuario."
   ]
  },
  {
   "cell_type": "code",
   "execution_count": 8,
   "metadata": {},
   "outputs": [],
   "source": [
    "# Function which executes the gradient algorithm\n",
    "def gradient_descent(alpha, theta, A, y, num_iters):\n",
    "\n",
    "    h = linear_regression(A, theta)\n",
    "    J_history = [cost_function(h, y)]\n",
    "    \n",
    "    # Iterate untill the gradient is close to zero or the gradient contains NaN or Inf or the number of iterations is reached\n",
    "    for i in range(num_iters): \n",
    "        # Calculate the gradient\n",
    "        g = abs(gradient(A, h, y))\n",
    "\n",
    "        # Break the loop if the gradient is small, or if g contains NaN or Inf\n",
    "        if np.all(g < 0.001):\n",
    "            print('El gradiente es cercano a cero después de ', i, ' iteraciones')\n",
    "            break\n",
    "        elif np.any(np.isinf(g)) or np.any(np.isnan(g)):\n",
    "            print('El gradiente contiene valores Inf o NaN después de ', i, ' iteraciones')\n",
    "            break\n",
    "        \n",
    "        # If the gradient is not close to zero, update the theta values\n",
    "        theta = update(theta, alpha, A, h, y) \n",
    "        \n",
    "        h = linear_regression(A, theta)\n",
    "        J_history.append(cost_function(h, y))\n",
    "\n",
    "    plot_cost_function(J_history)\n",
    "    display_thetas(theta)"
   ]
  },
  {
   "cell_type": "code",
   "execution_count": 9,
   "metadata": {},
   "outputs": [
    {
     "name": "stdout",
     "output_type": "stream",
     "text": [
      "Enter para actualizar los valores\n"
     ]
    },
    {
     "data": {
      "application/vnd.jupyter.widget-view+json": {
       "model_id": "9a49af62d0c0497b96f8aeafe3c20803",
       "version_major": 2,
       "version_minor": 0
      },
      "text/plain": [
       "interactive(children=(BoundedFloatText(value=1.0, description='Tasa de aprendizaje:', max=1.0, step=0.001), Bo…"
      ]
     },
     "metadata": {},
     "output_type": "display_data"
    },
    {
     "data": {
      "text/plain": [
       "<function __main__.gradient_descent(alpha, theta, A, y, num_iters)>"
      ]
     },
     "execution_count": 9,
     "metadata": {},
     "output_type": "execute_result"
    }
   ],
   "source": [
    "# Defining the A matrix\n",
    "ones = np.ones(len(data))\n",
    "x1 = data['X1 transaction date']\n",
    "x2 = data['X2 house age']\n",
    "x3 = data['X3 distance to the nearest MRT station']\n",
    "x4 = data['X4 number of convenience stores']\n",
    "x5 = data['X5 latitude']\n",
    "x6 = data['X6 longitude']\n",
    "x = np.column_stack((x1,x2,x3,x4,x5,x6))\n",
    "A = np.column_stack((ones, x))\n",
    "\n",
    "# Defining the vector of thetas\n",
    "theta = np.random.rand(A.shape[1])\n",
    "\n",
    "y = data['Y house price of unit area']\n",
    "\n",
    "alpha_widget = widgets.BoundedFloatText(\n",
    "    value=7.5,\n",
    "    min=0,\n",
    "    max=1.0,\n",
    "    step=0.001,\n",
    "    description='Tasa de aprendizaje:',\n",
    "    disabled=False\n",
    ")\n",
    "\n",
    "iter_widget = widgets.BoundedIntText(\n",
    "    value=1000,\n",
    "    min=0,\n",
    "    max=1000,\n",
    "    step=1,\n",
    "    description='Número de iteraciones:',\n",
    "    disabled=False\n",
    ")\n",
    "\n",
    "print(\"Enter para actualizar los valores\")\n",
    "interact(\n",
    "    gradient_descent, \n",
    "    alpha=alpha_widget, \n",
    "    theta=fixed(theta), \n",
    "    A=fixed(A), \n",
    "    y=fixed(y), \n",
    "    num_iters=iter_widget\n",
    ")"
   ]
  }
 ],
 "metadata": {
  "kernelspec": {
   "display_name": "ia",
   "language": "python",
   "name": "python3"
  },
  "language_info": {
   "codemirror_mode": {
    "name": "ipython",
    "version": 3
   },
   "file_extension": ".py",
   "mimetype": "text/x-python",
   "name": "python",
   "nbconvert_exporter": "python",
   "pygments_lexer": "ipython3",
   "version": "3.12.4"
  }
 },
 "nbformat": 4,
 "nbformat_minor": 2
}
