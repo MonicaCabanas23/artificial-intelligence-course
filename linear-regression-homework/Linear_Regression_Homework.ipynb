{
 "cells": [
  {
   "cell_type": "markdown",
   "metadata": {},
   "source": [
    "# Tarea de Regresión Lineal\n",
    "\n",
    "## Introducción\n",
    "Esta tarea consiste en la implementación en python del algoritmo de gradiente descendiente. Esta implementación soluciona el problema de regresión trabajado en clase, tomando en cuenta las siguientes características:\n",
    "<ol>\n",
    "    <li>\n",
    "        <strong>Implementación interactiva:</strong> Se permite la modificación de la taza de aprendizaje por medio de la librería <a href=\"https://ipywidgets.readthedocs.io/en/stable/\">ipwidgets</a>.\n",
    "    </li>\n",
    "    <li>\n",
    "        <strong>Uso de gráficos:</strong> Se puede visualizar los cambios en la función de costo a medida que se actualiza el valor de la taza de aprendizaje.\n",
    "    </li>\n",
    "    <li>\n",
    "        <strong>Regresión multivariable:</strong> Se ha realizado la implementación de regresión multivariable\n",
    "    </li>\n",
    "</ol>\n",
    "\n",
    "<strong>Estudiante:</strong> Mónica Gabriela Cabañas Meléndez \n"
   ]
  },
  {
   "cell_type": "code",
   "execution_count": 4,
   "metadata": {},
   "outputs": [],
   "source": [
    "# Importing necessary libraries\n",
    "\n",
    "import numpy as np\n",
    "import pandas as pd\n",
    "import matplotlib.pyplot as plt\n",
    "import ipywidgets as widgets"
   ]
  }
 ],
 "metadata": {
  "kernelspec": {
   "display_name": "ia",
   "language": "python",
   "name": "python3"
  },
  "language_info": {
   "codemirror_mode": {
    "name": "ipython",
    "version": 3
   },
   "file_extension": ".py",
   "mimetype": "text/x-python",
   "name": "python",
   "nbconvert_exporter": "python",
   "pygments_lexer": "ipython3",
   "version": "3.12.4"
  }
 },
 "nbformat": 4,
 "nbformat_minor": 2
}
